{
  "nbformat": 4,
  "nbformat_minor": 0,
  "metadata": {
    "colab": {
      "provenance": []
    },
    "kernelspec": {
      "name": "python3",
      "display_name": "Python 3"
    },
    "language_info": {
      "name": "python"
    }
  },
  "cells": [
    {
      "cell_type": "markdown",
      "source": [
        "# Data Science Tools and Ecosystem"
      ],
      "metadata": {
        "id": "K-iABEcEbZ7B"
      }
    },
    {
      "cell_type": "markdown",
      "source": [
        "# Introduction to My Notebook\n",
        "In this notebook, Data Science Tools and ecosystem are summarized."
      ],
      "metadata": {
        "id": "owNU5VO-b8fr"
      }
    },
    {
      "cell_type": "markdown",
      "source": [
        "| Language Name | Language Usage |\n",
        "| ------------- | -------------- |\n",
        "| Python | Most widely used, general purpose language |\n",
        "| R | Free software, used for statistics and graphing |\n",
        "| SQL | Relational database, formed by 2D tables |"
      ],
      "metadata": {
        "id": "PT82aZx1b-VH"
      }
    },
    {
      "cell_type": "markdown",
      "source": [
        "### Some of the commonly used Python libraries used by Data Scientists include:"
      ],
      "metadata": {
        "id": "WXnpanTOcCbz"
      }
    },
    {
      "cell_type": "markdown",
      "source": [
        "1.   **Visualization Libraries: Matplotlib**\n",
        "2.   **High Level Machine Learning Libraries: Scikitlearn**\n",
        "3.   **Deep learning Libraries: Tensorflow**\n"
      ],
      "metadata": {
        "id": "Tm74rolKcGDY"
      }
    },
    {
      "cell_type": "markdown",
      "source": [
        "| **Data Science Tools** |\n",
        "| ---------------------- |\n",
        "| GitHub |\n",
        "| Apache Spark |\n",
        "| Visual Studio Code |"
      ],
      "metadata": {
        "id": "8VEOrAyucIg8"
      }
    },
    {
      "cell_type": "markdown",
      "source": [
        "### Below are a few examples of evaluating arithmetic expressions in Python:"
      ],
      "metadata": {
        "id": "UYpFcP-xcKgD"
      }
    },
    {
      "cell_type": "markdown",
      "source": [
        "This is a simple expression to multiply then add integers."
      ],
      "metadata": {
        "id": "Cln5xN_9cMqj"
      }
    },
    {
      "cell_type": "code",
      "source": [
        "result = (3 * 4) + 5\n",
        "print(result)  #Output: 17"
      ],
      "metadata": {
        "colab": {
          "base_uri": "https://localhost:8080/"
        },
        "id": "0OA51V8AcOS7",
        "outputId": "3f2fa101-4d4d-4797-8ce4-a63b847a4ee3"
      },
      "execution_count": 4,
      "outputs": [
        {
          "output_type": "stream",
          "name": "stdout",
          "text": [
            "17\n"
          ]
        }
      ]
    },
    {
      "cell_type": "markdown",
      "source": [
        "**This will convert 200 minutes to hours by dividing by 60.**"
      ],
      "metadata": {
        "id": "BJqo8DXycbTT"
      }
    },
    {
      "cell_type": "code",
      "source": [
        "result = 200 / 60\n",
        "print(result) #Output: 3.33"
      ],
      "metadata": {
        "colab": {
          "base_uri": "https://localhost:8080/"
        },
        "id": "jRSijL1XccqI",
        "outputId": "203f2035-498f-4faa-91fc-fd37821ee261"
      },
      "execution_count": 5,
      "outputs": [
        {
          "output_type": "stream",
          "name": "stdout",
          "text": [
            "3.3333333333333335\n"
          ]
        }
      ]
    },
    {
      "cell_type": "markdown",
      "source": [
        "**Objectives: Other Languages for Data Science**"
      ],
      "metadata": {
        "id": "3r183XScchT3"
      }
    },
    {
      "cell_type": "markdown",
      "source": [
        "- JAVA: object-oriented and general purpose\n",
        "- SCALA: short-comings of JAVA, scalable\n",
        "- C++: general purpose language at a quicker processing speed"
      ],
      "metadata": {
        "id": "VlSNOfeWckBb"
      }
    },
    {
      "cell_type": "markdown",
      "source": [
        "## Author\n",
        "Rachela"
      ],
      "metadata": {
        "id": "RToafbXScl--"
      }
    }
  ]
}